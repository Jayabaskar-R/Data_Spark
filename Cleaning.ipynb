{
 "cells": [
  {
   "cell_type": "code",
   "execution_count": 3,
   "metadata": {},
   "outputs": [],
   "source": [
    "import pandas as pd"
   ]
  },
  {
   "cell_type": "code",
   "execution_count": 4,
   "metadata": {},
   "outputs": [
    {
     "name": "stdout",
     "output_type": "stream",
     "text": [
      "       Order Number  Line Item Order Date  CustomerKey  StoreKey  ProductKey  \\\n",
      "0            366000          1   1/1/2016       265598        10        1304   \n",
      "1            366001          1   1/1/2016      1269051         0        1048   \n",
      "2            366001          2   1/1/2016      1269051         0        2007   \n",
      "3            366002          1   1/1/2016       266019         0        1106   \n",
      "4            366002          2   1/1/2016       266019         0         373   \n",
      "...             ...        ...        ...          ...       ...         ...   \n",
      "62879       2243030          1  2/20/2021      1216913        43         632   \n",
      "62880       2243031          1  2/20/2021       511229         0          98   \n",
      "62881       2243032          1  2/20/2021       331277         0        1613   \n",
      "62882       2243032          2  2/20/2021       331277         0        1717   \n",
      "62883       2243032          3  2/20/2021       331277         0         464   \n",
      "\n",
      "       Quantity Currency Code  \n",
      "0             1           CAD  \n",
      "1             2           USD  \n",
      "2             1           USD  \n",
      "3             7           CAD  \n",
      "4             1           CAD  \n",
      "...         ...           ...  \n",
      "62879         3           USD  \n",
      "62880         4           EUR  \n",
      "62881         2           CAD  \n",
      "62882         2           CAD  \n",
      "62883         7           CAD  \n",
      "\n",
      "[62884 rows x 8 columns]\n"
     ]
    }
   ],
   "source": [
    "df = pd.read_csv('Sales.csv')\n",
    "\n",
    "# Delete the 'Delivery Date' column\n",
    "df.drop(columns=[\"Delivery Date\"], inplace=True)\n",
    "\n",
    "# Print the updated DataFrame\n",
    "print(df)\n",
    "\n",
    "# Save the cleaned DataFrame to a new CSV file\n",
    "df.to_csv('newsales.csv', index=False)\n",
    "\n"
   ]
  },
  {
   "cell_type": "code",
   "execution_count": 5,
   "metadata": {},
   "outputs": [
    {
     "name": "stdout",
     "output_type": "stream",
     "text": [
      "    StoreKey        Country                         State  Square Meters  \\\n",
      "0          1      Australia  Australian Capital Territory          595.0   \n",
      "1          2      Australia            Northern Territory          665.0   \n",
      "2          3      Australia               South Australia         2000.0   \n",
      "3          4      Australia                      Tasmania         2000.0   \n",
      "4          5      Australia                      Victoria         2000.0   \n",
      "..       ...            ...                           ...            ...   \n",
      "62        63  United States                          Utah         2000.0   \n",
      "63        64  United States                 Washington DC         1330.0   \n",
      "64        65  United States                 West Virginia         1785.0   \n",
      "65        66  United States                       Wyoming          840.0   \n",
      "66         0         Online                        Online            0.0   \n",
      "\n",
      "    Open Date  \n",
      "0    1/1/2008  \n",
      "1   1/12/2008  \n",
      "2    1/7/2012  \n",
      "3    1/1/2010  \n",
      "4   12/9/2015  \n",
      "..        ...  \n",
      "62   3/6/2008  \n",
      "63   1/1/2010  \n",
      "64   1/1/2012  \n",
      "65   1/1/2014  \n",
      "66   1/1/2010  \n",
      "\n",
      "[67 rows x 5 columns]\n"
     ]
    }
   ],
   "source": [
    "import numpy as np\n",
    "import pandas as pd\n",
    "\n",
    "df = pd.read_csv('Stores.csv')\n",
    "\n",
    "df.fillna(0, inplace=True)\n",
    "\n",
    "print(df)\n",
    "\n",
    "df.to_csv('newstores.csv', index=False)"
   ]
  },
  {
   "cell_type": "code",
   "execution_count": 44,
   "metadata": {},
   "outputs": [
    {
     "name": "stdout",
     "output_type": "stream",
     "text": [
      "      ProductKey                                   Product Name    Brand  \\\n",
      "0              1            Contoso 512MB MP3 Player E51 Silver  Contoso   \n",
      "1              2              Contoso 512MB MP3 Player E51 Blue  Contoso   \n",
      "2              3               Contoso 1G MP3 Player E100 White  Contoso   \n",
      "3              4              Contoso 2G MP3 Player E200 Silver  Contoso   \n",
      "4              5                 Contoso 2G MP3 Player E200 Red  Contoso   \n",
      "...          ...                                            ...      ...   \n",
      "2512        2513    Contoso Bluetooth Active Headphones L15 Red  Contoso   \n",
      "2513        2514  Contoso Bluetooth Active Headphones L15 White  Contoso   \n",
      "2514        2515             Contoso In-Line Coupler E180 White  Contoso   \n",
      "2515        2516             Contoso In-Line Coupler E180 Black  Contoso   \n",
      "2516        2517            Contoso In-Line Coupler E180 Silver  Contoso   \n",
      "\n",
      "       Color Unit Cost USD Unit Price USD  SubcategoryKey  \\\n",
      "0     Silver        $6.62         $12.99              101   \n",
      "1       Blue        $6.62         $12.99              101   \n",
      "2      White        $7.40         $14.52              101   \n",
      "3     Silver       $11.00         $21.57              101   \n",
      "4        Red       $11.00         $21.57              101   \n",
      "...      ...           ...            ...             ...   \n",
      "2512     Red       $43.07        $129.99              505   \n",
      "2513   White       $43.07        $129.99              505   \n",
      "2514   White        $1.71          $3.35              505   \n",
      "2515   Black        $1.71          $3.35              505   \n",
      "2516  Silver        $1.71          $3.35              505   \n",
      "\n",
      "                  Subcategory  CategoryKey     Category  \n",
      "0                     MP4&MP3            1        Audio  \n",
      "1                     MP4&MP3            1        Audio  \n",
      "2                     MP4&MP3            1        Audio  \n",
      "3                     MP4&MP3            1        Audio  \n",
      "4                     MP4&MP3            1        Audio  \n",
      "...                       ...          ...          ...  \n",
      "2512  Cell phones Accessories            5  Cell phones  \n",
      "2513  Cell phones Accessories            5  Cell phones  \n",
      "2514  Cell phones Accessories            5  Cell phones  \n",
      "2515  Cell phones Accessories            5  Cell phones  \n",
      "2516  Cell phones Accessories            5  Cell phones  \n",
      "\n",
      "[2517 rows x 10 columns]\n"
     ]
    }
   ],
   "source": [
    "import numpy as np\n",
    "import pandas as pd\n",
    "\n",
    "df = pd.read_csv('Products.csv')\n",
    "\n",
    "newproducts = np.unique(df, axis=0)\n",
    "\n",
    "print(newproducts)\n",
    "\n",
    "newproducts.to_csv('newproducts.csv', index=False)"
   ]
  },
  {
   "cell_type": "code",
   "execution_count": 45,
   "metadata": {},
   "outputs": [
    {
     "name": "stdout",
     "output_type": "stream",
     "text": [
      "            Date Currency  Exchange\n",
      "0       1/1/2015      USD    1.0000\n",
      "1       1/1/2015      CAD    1.1583\n",
      "2       1/1/2015      AUD    1.2214\n",
      "3       1/1/2015      EUR    0.8237\n",
      "4       1/1/2015      GBP    0.6415\n",
      "...          ...      ...       ...\n",
      "11210  2/20/2021      USD    1.0000\n",
      "11211  2/20/2021      CAD    1.2610\n",
      "11212  2/20/2021      AUD    1.2723\n",
      "11213  2/20/2021      EUR    0.8238\n",
      "11214  2/20/2021      GBP    0.7126\n",
      "\n",
      "[11215 rows x 3 columns]\n"
     ]
    }
   ],
   "source": [
    "import numpy as np\n",
    "import pandas as pd\n",
    "\n",
    "df = pd.read_csv('Exchange_Rates.csv')\n",
    "\n",
    "df.dropna(inplace = True)\n",
    "\n",
    "print(df)\n",
    "\n",
    "df.to_csv('newexchange_rates.csv', index=False)"
   ]
  },
  {
   "cell_type": "code",
   "execution_count": 2,
   "metadata": {},
   "outputs": [
    {
     "name": "stdout",
     "output_type": "stream",
     "text": [
      "       CustomerKey  Gender               Name                 City State Code  \\\n",
      "0              301  Female      Lilly Harding       WANDEARAH EAST         SA   \n",
      "1              325  Female       Madison Hull           MOUNT BUDD         WA   \n",
      "2              554  Female      Claire Ferres            WINJALLOK        VIC   \n",
      "3              786    Male  Jai Poltpalingada         MIDDLE RIVER         SA   \n",
      "4             1042    Male    Aidan Pankhurst        TAWONGA SOUTH        VIC   \n",
      "...            ...     ...                ...                  ...        ...   \n",
      "15261      2099600  Female     Denisa Duková              Houston         TX   \n",
      "15262      2099618    Male   Justin Solórzano               Mclean         VA   \n",
      "15263      2099758    Male    Svend Petrussen           Wilmington         NC   \n",
      "15264      2099862  Female       Lorenza Rush            Riverside         CA   \n",
      "15265      2099937    Male   Zygmunt Kaminski  Bloomfield Township         MI   \n",
      "\n",
      "                   State Zip Code        Country      Continent    Birthday  \n",
      "0        South Australia     5523      Australia      Australia    7/3/1939  \n",
      "1      Western Australia     6522      Australia      Australia   9/27/1979  \n",
      "2               Victoria     3380      Australia      Australia   5/26/1947  \n",
      "3        South Australia     5223      Australia      Australia   9/17/1957  \n",
      "4               Victoria     3698      Australia      Australia  11/19/1965  \n",
      "...                  ...      ...            ...            ...         ...  \n",
      "15261              Texas    77017  United States  North America   3/25/1936  \n",
      "15262           Virginia    22101  United States  North America   2/16/1992  \n",
      "15263     North Carolina    28405  United States  North America   11/9/1937  \n",
      "15264         California    92501  United States  North America  10/12/1937  \n",
      "15265           Michigan    48302  United States  North America   8/18/1965  \n",
      "\n",
      "[15256 rows x 10 columns]\n"
     ]
    }
   ],
   "source": [
    "import numpy as np\n",
    "import pandas as pd\n",
    "\n",
    "df = pd.read_csv('Customers.csv', encoding='unicode_escape')\n",
    "\n",
    "df.dropna(inplace = True)\n",
    "\n",
    "print(df)\n",
    "\n",
    "df.to_csv('newcustomers.csv', index=False)"
   ]
  }
 ],
 "metadata": {
  "kernelspec": {
   "display_name": "Python 3",
   "language": "python",
   "name": "python3"
  },
  "language_info": {
   "codemirror_mode": {
    "name": "ipython",
    "version": 3
   },
   "file_extension": ".py",
   "mimetype": "text/x-python",
   "name": "python",
   "nbconvert_exporter": "python",
   "pygments_lexer": "ipython3",
   "version": "3.12.5"
  }
 },
 "nbformat": 4,
 "nbformat_minor": 2
}
