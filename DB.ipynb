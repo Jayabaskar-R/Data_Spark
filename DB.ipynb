{
 "cells": [
  {
   "cell_type": "code",
   "execution_count": 13,
   "metadata": {},
   "outputs": [
    {
     "name": "stdout",
     "output_type": "stream",
     "text": [
      "Defaulting to user installation because normal site-packages is not writeable\n",
      "Requirement already satisfied: mysql-connector-python in c:\\users\\j8354377\\appdata\\roaming\\python\\python312\\site-packages (9.0.0)\n"
     ]
    }
   ],
   "source": [
    "!pip3 install mysql-connector-python\n",
    "import mysql.connector\n",
    "\n",
    "import pandas as pd\n",
    "import numpy as np"
   ]
  },
  {
   "cell_type": "code",
   "execution_count": 14,
   "metadata": {},
   "outputs": [
    {
     "name": "stdout",
     "output_type": "stream",
     "text": [
      "<mysql.connector.connection.MySQLConnection object at 0x000002B8E14116A0>\n"
     ]
    }
   ],
   "source": [
    "mydb = mysql.connector.connect(\n",
    "  host=\"localhost\",\n",
    "  user=\"root\",\n",
    "  password=\"JabasR@2001\",\n",
    "  #database='joins'  \n",
    ")\n",
    "\n",
    "print(mydb)\n",
    "\n",
    "mycursor = mydb.cursor(buffered=True)\n",
    "\n",
    "# mycursor.execute(\"SHOW DATABASES\")\n",
    "\n",
    "# for x in mycursor:\n",
    "#     print(x)\n"
   ]
  },
  {
   "cell_type": "code",
   "execution_count": 6,
   "metadata": {},
   "outputs": [],
   "source": [
    "mycursor.execute(\"CREATE DATABASE Data_Spark\")"
   ]
  },
  {
   "cell_type": "code",
   "execution_count": 15,
   "metadata": {},
   "outputs": [],
   "source": [
    "mycursor.execute(\"USE Data_Spark\")"
   ]
  },
  {
   "cell_type": "code",
   "execution_count": 18,
   "metadata": {},
   "outputs": [
    {
     "data": {
      "text/plain": [
       "True"
      ]
     },
     "execution_count": 18,
     "metadata": {},
     "output_type": "execute_result"
    }
   ],
   "source": [
    "# mycursor.execute(\"\"\"\n",
    "# CREATE TABLE newcustomers (\n",
    "#     CustomerKey INT, \n",
    "#     Gender TEXT, \n",
    "#     Name TEXT, \n",
    "#     City TEXT, \n",
    "#     `State Code` VARCHAR(255), \n",
    "#     State TEXT, \n",
    "#     `Zip Code` TEXT,\n",
    "#     Country TEXT, \n",
    "#     Continent VARCHAR(255), \n",
    "#     Birthday DATE\n",
    "#     )\n",
    "# \"\"\")\n",
    "\n",
    "\n",
    "df = pd.read_csv('newcustomers.csv', encoding='unicode_escape')\n",
    "\n",
    "# Insert data row by row\n",
    "for i in range(len(df)):\n",
    "    # Convert Birthday to datetime if it's not null, then format it to 'YYYY-MM-DD'\n",
    "    birthday = pd.to_datetime(df[\"Birthday\"].iloc[i], errors='coerce').strftime('%Y-%m-%d') if pd.notnull(df[\"Birthday\"].iloc[i]) else None\n",
    "    \n",
    "    mycursor.execute(\"\"\"\n",
    "    INSERT INTO newcustomers (CustomerKey, Gender, Name, City, `State Code`, State, `Zip Code`, Country, Continent, Birthday)\n",
    "    VALUES (%s, %s, %s, %s, %s, %s, %s, %s, %s, %s)\n",
    "    \"\"\", [\n",
    "        int(df[\"CustomerKey\"].iloc[i]),\n",
    "        df[\"Gender\"].iloc[i],\n",
    "        df[\"Name\"].iloc[i],\n",
    "        df[\"City\"].iloc[i],\n",
    "        df[\"State Code\"].iloc[i],\n",
    "        df[\"State\"].iloc[i], \n",
    "        str(df[\"Zip Code\"].iloc[i]),  # Convert Zip Code to string\n",
    "        df[\"Country\"].iloc[i],\n",
    "        df[\"Continent\"].iloc[i],\n",
    "        birthday  # Use the formatted birthday\n",
    "    ])\n",
    "    mydb.commit()\n",
    "\n",
    "# Close the cursor\n",
    "mycursor.close()\n"
   ]
  },
  {
   "cell_type": "code",
   "execution_count": null,
   "metadata": {},
   "outputs": [],
   "source": [
    "# mycursor.execute(\"\"\"\n",
    "# CREATE TABLE Sales (\n",
    "#     `Order Number` INT, \n",
    "#     `Line Item` TEXT, \n",
    "#     `Order Date` DATE, \n",
    "#     CustomerKey TEXT, \n",
    "#     StoreKey TEXT, \n",
    "#     ProductKey TEXT, \n",
    "#     Quantity TEXT, \n",
    "#     `Currency Code` TEXT\n",
    "#     )\n",
    "# \"\"\")\n",
    "\n",
    "# Read data from the CSV file\n",
    "df = pd.read_csv('newsales.csv', encoding='unicode_escape')\n",
    "\n",
    "# Insert data row by row\n",
    "for i in range(len(df)):\n",
    "    # Convert Order Date to datetime if it's not null, then format it to 'YYYY-MM-DD'\n",
    "    order_date = pd.to_datetime(df[\"Order Date\"].iloc[i], errors='coerce').strftime('%Y-%m-%d') if pd.notnull(df[\"Order Date\"].iloc[i]) else None\n",
    "    \n",
    "    # Explicitly convert numeric values to Python native types\n",
    "    order_number = int(df[\"Order Number\"].iloc[i]) if pd.notnull(df[\"Order Number\"].iloc[i]) else None\n",
    "    quantity = str(df[\"Quantity\"].iloc[i]) if pd.notnull(df[\"Quantity\"].iloc[i]) else None\n",
    "    \n",
    "    # Ensure CustomerKey, StoreKey, ProductKey are also converted to string if necessary\n",
    "    customer_key = str(df[\"CustomerKey\"].iloc[i]) if pd.notnull(df[\"CustomerKey\"].iloc[i]) else None\n",
    "    store_key = str(df[\"StoreKey\"].iloc[i]) if pd.notnull(df[\"StoreKey\"].iloc[i]) else None\n",
    "    product_key = str(df[\"ProductKey\"].iloc[i]) if pd.notnull(df[\"ProductKey\"].iloc[i]) else None\n",
    "\n",
    "    # Explicitly convert each field to its expected type\n",
    "    insert_data = (\n",
    "        order_number,              # Order Number (INT)\n",
    "        str(df[\"Line Item\"].iloc[i]),  # Line Item (TEXT)\n",
    "        order_date,                # Order Date (DATE)\n",
    "        customer_key,              # CustomerKey (TEXT)\n",
    "        store_key,                 # StoreKey (TEXT)\n",
    "        product_key,               # ProductKey (TEXT)\n",
    "        quantity,                  # Quantity (TEXT)\n",
    "        str(df[\"Currency Code\"].iloc[i])  # Currency Code (TEXT)\n",
    "    )\n",
    "    \n",
    "    # Execute the insert statement\n",
    "    mycursor.execute(\"\"\"\n",
    "    INSERT INTO sales (`Order Number`, `Line Item`, `Order Date`, CustomerKey, StoreKey, ProductKey, Quantity, `Currency Code`)\n",
    "    VALUES (%s, %s, %s, %s, %s, %s, %s, %s)\n",
    "    \"\"\", insert_data)\n",
    "    \n",
    "    # Commit the transaction after each row insertion\n",
    "    mydb.commit()\n",
    "\n",
    "# Close the cursor and the database connection after all inserts\n",
    "mycursor.close()"
   ]
  },
  {
   "cell_type": "code",
   "execution_count": 5,
   "metadata": {},
   "outputs": [
    {
     "data": {
      "text/plain": [
       "True"
      ]
     },
     "execution_count": 5,
     "metadata": {},
     "output_type": "execute_result"
    }
   ],
   "source": [
    "# mycursor.execute(\"\"\"\n",
    "# CREATE TABLE Stores (\n",
    "#     StoreKey INT,  \n",
    "#     Country TEXT, \n",
    "#     State TEXT, \n",
    "#     `Square Meters` TEXT, \n",
    "#     `Open Date` DATE\n",
    "# )\n",
    "# \"\"\")\n",
    "\n",
    "# Read data from the CSV file\n",
    "df = pd.read_csv('newstores.csv', encoding='unicode_escape')  # Ensure the filename is correct\n",
    "\n",
    "# Prepare a list to collect data for batch insertion\n",
    "insert_data = []\n",
    "\n",
    "# Insert data row by row\n",
    "for i in range(len(df)):\n",
    "    # Convert Open Date to datetime if it's not null, then format it to 'YYYY-MM-DD'\n",
    "    open_date = pd.to_datetime(df[\"Open Date\"].iloc[i], errors='coerce').strftime('%Y-%m-%d') if pd.notnull(df[\"Open Date\"].iloc[i]) else None\n",
    "\n",
    "    # Explicitly convert numeric values to Python native types\n",
    "    store_key = int(df[\"StoreKey\"].iloc[i]) if pd.notnull(df[\"StoreKey\"].iloc[i]) else None\n",
    "    square_meters = str(df[\"Square Meters\"].iloc[i]) if pd.notnull(df[\"Square Meters\"].iloc[i]) else None\n",
    "\n",
    "    # Collect the values in a tuple\n",
    "    insert_data.append((\n",
    "        store_key,\n",
    "        df[\"Country\"].iloc[i],\n",
    "        df[\"State\"].iloc[i],\n",
    "        square_meters,\n",
    "        open_date  # Use the formatted open date\n",
    "    ))\n",
    "\n",
    "# Execute the insert statement for all rows in one go\n",
    "mycursor.executemany(\"\"\" \n",
    "INSERT INTO Stores (StoreKey, Country, State, `Square Meters`, `Open Date`)\n",
    "VALUES (%s, %s, %s, %s, %s)\n",
    "\"\"\", insert_data)\n",
    "\n",
    "# Commit the transaction once after all rows are inserted\n",
    "mydb.commit()\n",
    "\n",
    "# Close the cursor and the database connection\n",
    "mycursor.close()\n"
   ]
  },
  {
   "cell_type": "code",
   "execution_count": 18,
   "metadata": {},
   "outputs": [
    {
     "data": {
      "text/plain": [
       "True"
      ]
     },
     "execution_count": 18,
     "metadata": {},
     "output_type": "execute_result"
    }
   ],
   "source": [
    "# mycursor.execute(\"\"\"\n",
    "# CREATE TABLE Products (\n",
    "#     ProductKey INT, \n",
    "#     `Product Name` TEXT, \n",
    "#     Brand TEXT, \n",
    "#     Color TEXT, \n",
    "#     `Unit Cost USD` DECIMAL(10, 2), \n",
    "#     `Unit Price USD` DECIMAL(10, 2), \n",
    "#     SubcategoryKey TEXT,\n",
    "#     Subcategory TEXT, \n",
    "#     CategoryKey VARCHAR(255), \n",
    "#     Category TEXT\n",
    "# )\n",
    "# \"\"\")\n",
    "\n",
    "# Read data from the CSV file\n",
    "df = pd.read_csv('newproducts.csv', encoding='unicode_escape')  # Ensure the filename is correct\n",
    "\n",
    "# Prepare a list to collect data for batch insertion\n",
    "insert_data = []\n",
    "\n",
    "# Insert data row by row\n",
    "for i in range(len(df)):\n",
    "    product_key = int(df[\"ProductKey\"].iloc[i]) if pd.notnull(df[\"ProductKey\"].iloc[i]) else None\n",
    "\n",
    "    # Clean the Unit Cost and Unit Price values\n",
    "    unit_cost_str = str(df[\"Unit Cost USD\"].iloc[i]).replace('$', '').strip() if pd.notnull(df[\"Unit Cost USD\"].iloc[i]) else None\n",
    "    unit_price_str = str(df[\"Unit Price USD\"].iloc[i]).replace('$', '').strip() if pd.notnull(df[\"Unit Price USD\"].iloc[i]) else None\n",
    "\n",
    "    unit_cost = float(unit_cost_str) if unit_cost_str and unit_cost_str.replace('.', '', 1).isdigit() else None\n",
    "    unit_price = float(unit_price_str) if unit_price_str and unit_price_str.replace('.', '', 1).isdigit() else None\n",
    "\n",
    "    # Collect the values in a tuple, converting any pandas types to native Python types\n",
    "    insert_data.append((\n",
    "        product_key,\n",
    "        str(df[\"Product Name\"].iloc[i]) if pd.notnull(df[\"Product Name\"].iloc[i]) else None,\n",
    "        str(df[\"Brand\"].iloc[i]) if pd.notnull(df[\"Brand\"].iloc[i]) else None,\n",
    "        str(df[\"Color\"].iloc[i]) if pd.notnull(df[\"Color\"].iloc[i]) else None,\n",
    "        unit_cost,\n",
    "        unit_price,\n",
    "        str(df[\"SubcategoryKey\"].iloc[i]) if pd.notnull(df[\"SubcategoryKey\"].iloc[i]) else None,\n",
    "        str(df[\"Subcategory\"].iloc[i]) if pd.notnull(df[\"Subcategory\"].iloc[i]) else None,\n",
    "        str(df[\"CategoryKey\"].iloc[i]) if pd.notnull(df[\"CategoryKey\"].iloc[i]) else None,\n",
    "        str(df[\"Category\"].iloc[i]) if pd.notnull(df[\"Category\"].iloc[i]) else None\n",
    "    ))\n",
    "\n",
    "# Execute the insert statement for all rows in one go\n",
    "if insert_data:  # Ensure there's data to insert\n",
    "    mycursor.executemany(\"\"\" \n",
    "    INSERT INTO Products (ProductKey, `Product Name`, Brand, Color, `Unit Cost USD`, `Unit Price USD`, SubcategoryKey, Subcategory, CategoryKey, Category)\n",
    "    VALUES (%s, %s, %s, %s, %s, %s, %s, %s, %s, %s)\n",
    "    \"\"\", insert_data)\n",
    "\n",
    "# Commit the transaction once after all rows are inserted\n",
    "mydb.commit()\n",
    "\n",
    "# Close the cursor and the database connection\n",
    "mycursor.close()"
   ]
  },
  {
   "cell_type": "code",
   "execution_count": 21,
   "metadata": {},
   "outputs": [],
   "source": [
    "mycursor.execute(\"\"\"\n",
    "CREATE TABLE Exchange_rates (\n",
    "    Date DATE,  \n",
    "    Currency TEXT, \n",
    "    Exchange TEXT \n",
    ")\n",
    "\"\"\")\n",
    "\n",
    "# Read data from the CSV file\n",
    "df = pd.read_csv('exchange_rates.csv', encoding='unicode_escape')  # Ensure the filename is correct\n",
    "\n",
    "# Prepare a list to collect data for batch insertion\n",
    "insert_data = []\n",
    "\n",
    "# Insert data row by row\n",
    "for i in range(len(df)):\n",
    "    date = pd.to_datetime(df[\"Date\"].iloc[i]).date() if pd.notnull(df[\"Date\"].iloc[i]) else None\n",
    "    currency = str(df[\"Currency\"].iloc[i]) if pd.notnull(df[\"Currency\"].iloc[i]) else None\n",
    "    exchange = str(df[\"Exchange\"].iloc[i]) if pd.notnull(df[\"Exchange\"].iloc[i]) else None\n",
    "\n",
    "    # Collect the values in a tuple\n",
    "    insert_data.append((date, currency, exchange))\n",
    "\n",
    "# Check if the connection is established\n",
    "if mydb.is_connected() and mycursor:  # Ensure the connection and cursor are valid\n",
    "    try:\n",
    "        mycursor.executemany(\"\"\" \n",
    "        INSERT INTO Exchange_rates (Date, Currency, Exchange)\n",
    "        VALUES (%s, %s, %s)\n",
    "        \"\"\", insert_data)\n",
    "        \n",
    "        # Commit the transaction once after all rows are inserted\n",
    "        mydb.commit()\n",
    "    except mysql.connector.Error as err:  # Handle any MySQL errors\n",
    "        print(f\"Error during insertion: {err}\")\n",
    "    finally:\n",
    "        mycursor.close()  # Ensure the cursor is closed in the finally block\n",
    "        mydb.close()      # Close the connection"
   ]
  }
 ],
 "metadata": {
  "kernelspec": {
   "display_name": "Python 3",
   "language": "python",
   "name": "python3"
  },
  "language_info": {
   "codemirror_mode": {
    "name": "ipython",
    "version": 3
   },
   "file_extension": ".py",
   "mimetype": "text/x-python",
   "name": "python",
   "nbconvert_exporter": "python",
   "pygments_lexer": "ipython3",
   "version": "3.12.5"
  }
 },
 "nbformat": 4,
 "nbformat_minor": 2
}
